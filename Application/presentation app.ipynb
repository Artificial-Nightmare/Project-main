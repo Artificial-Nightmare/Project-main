{
 "cells": [
  {
   "cell_type": "markdown",
   "id": "d3bb5aba",
   "metadata": {},
   "source": [
    "# PRESNTATION APPLICATION\n",
    "\n",
    "j'ai du ajouter un model.txt dans le dossier de l'application pour jupyter\n",
    "c'est pas le même environnement donc retrouvé le model est plus dur:"
   ]
  },
  {
   "cell_type": "markdown",
   "id": "d467ea9c",
   "metadata": {},
   "source": [
    "\n",
    "# Importation et chargement des librairie notament le chargement de Model PMC"
   ]
  },
  {
   "cell_type": "code",
   "execution_count": 1,
   "id": "08e5d388",
   "metadata": {},
   "outputs": [],
   "source": [
    "import os\n",
    "import math\n",
    "import shutil\n",
    "from tkinter import Tk, Label, Button, Frame, filedialog\n",
    "from PIL import Image, ImageTk\n",
    "import numpy as np\n",
    "import resize\n",
    "import trainer\n",
    "import ctypes\n",
    "import sys\n",
    "\n",
    "root = Tk()\n",
    "root.iconbitmap(\"icon.ico\")\n",
    "root.title(\"Détection de Balles\")\n",
    "current_dir = os.getcwd()\n",
    "\n",
    "# Append the path to the DLL to the system's search path\n",
    "dll_path = os.path.join(current_dir, 'perceptron_multi_couche.dll')\n",
    "sys.path.append(dll_path)\n",
    "\n",
    "# Load the DLL\n",
    "mlp_dll = ctypes.cdll.LoadLibrary(dll_path)\n",
    "mlp_dll.saveModel.argtypes = [ctypes.c_void_p]\n",
    "mlp_dll.loadModel.restype = ctypes.c_void_p"
   ]
  },
  {
   "cell_type": "markdown",
   "id": "8342cb0c",
   "metadata": {},
   "source": [
    "definition des chemin d'image et suppression du conenu du dossier ou aura lieu la prediction"
   ]
  },
  {
   "cell_type": "code",
   "execution_count": 2,
   "id": "fc043e74",
   "metadata": {},
   "outputs": [
    {
     "name": "stdout",
     "output_type": "stream",
     "text": [
      "C:\\Users\\victo\\OneDrive\\Project-main\\Application\\imageAtest\n"
     ]
    }
   ],
   "source": [
    "loaded_mlp_ptr = mlp_dll.loadModel()\n",
    "current_dir = os.getcwd()\n",
    "data_dir = os.path.join(current_dir, \"imageAtest\")\n",
    "destination_folder = os.path.join(os.getcwd(), \"imageAtest\")\n",
    "\n",
    "# Supprimer les fichiers existants dans le dossier \"imageAtest\"\n",
    "for the_file in os.listdir(destination_folder):\n",
    "    file_path = os.path.join(destination_folder, the_file)\n",
    "    try:\n",
    "        if os.path.isfile(file_path):\n",
    "            os.unlink(file_path)\n",
    "    except Exception as e:\n",
    "        print(e)\n",
    "print(data_dir)"
   ]
  },
  {
   "cell_type": "markdown",
   "id": "7a48cd6f",
   "metadata": {},
   "source": [
    "Fonction pour sauvegarder les images"
   ]
  },
  {
   "cell_type": "code",
   "execution_count": 3,
   "id": "951b13c3",
   "metadata": {},
   "outputs": [],
   "source": [
    "def save_image(file_path):\n",
    "    destination_folder = os.path.join(os.getcwd(), \"imageAtest\")\n",
    "    # Supprimer les fichiers existants dans le dossier \"imageAtest\"\n",
    "    for the_file in os.listdir(destination_folder):\n",
    "        file_path = os.path.join(destination_folder, the_file)\n",
    "        try:\n",
    "            if os.path.isfile(file_path):\n",
    "                os.unlink(file_path)\n",
    "        except Exception as e:\n",
    "            print(e)\n",
    "    if destination_folder:\n",
    "        # Vérifier si le dossier existe et le créer s'il n'existe pas\n",
    "        if not os.path.exists(destination_folder):\n",
    "            os.makedirs(destination_folder)\n",
    "        \n",
    "        # Supprimer les fichiers existants dans le dossier\n",
    "        for the_file in os.listdir(destination_folder):\n",
    "            file_path = os.path.join(destination_folder, the_file)\n",
    "            try:\n",
    "                if os.path.isfile(file_path):\n",
    "                    os.unlink(file_path)\n",
    "            except Exception as e:\n",
    "                print(e)\n",
    "\n",
    "        # Renommer et enregistrer la nouvelle image\n",
    "        new_file_path = os.path.join(destination_folder, 'image.jpg')\n",
    "        shutil.copy(file_path, new_file_path)\n",
    "        print(\"Image téléchargée avec succès!\")\n",
    "\n",
    "        new_size = (25, 25)\n",
    "        resize.resize_image(new_file_path,new_file_path, new_size)\n",
    "        pixels =  np.array(allcolors('./imageAtest/'))\n",
    "        cls = \"\"\n",
    "        print(pixels)\n",
    "        predicted_outputs = trainer.predict(loaded_mlp_ptr, pixels)\n",
    "        predicted_classes = np.argmax(predicted_outputs, axis=1)\n",
    "        print(\"Prédictions du MLP :\")\n",
    "        for i in range(len(predicted_outputs)): \n",
    "            predicted_class = predicted_classes[i]\n",
    "            print(f\"Exemple {i+1} - Prédiction : {predicted_class}\")\n",
    "            print(f\"Sortie du MLP : {predicted_outputs[i]}\")\n",
    "            if predicted_class == 0:\n",
    "                cls = \"Ballon de baseball\"\n",
    "            elif predicted_class == 1:\n",
    "                cls = \"Ballon de football\"\n",
    "            elif predicted_class == 2:      \n",
    "                cls = \"Ballon de basket\"\n",
    "        print(cls)\n",
    "        result_label.config(text=cls)  # Mettre à jour le texte du label avec le résultat de la prédiction\n",
    "        for the_file in os.listdir(destination_folder):\n",
    "            file_path = os.path.join(destination_folder, the_file)\n",
    "        try:\n",
    "            if os.path.isfile(file_path):\n",
    "                os.unlink(file_path)\n",
    "        except Exception as e:\n",
    "            print(e)\n",
    "    print(data_dir)\n"
   ]
  },
  {
   "cell_type": "markdown",
   "id": "a5a27c2f",
   "metadata": {},
   "source": [
    "La fonction allcolor pour récuperé les valeur des pixel"
   ]
  },
  {
   "cell_type": "code",
   "execution_count": 4,
   "id": "ca23951a",
   "metadata": {},
   "outputs": [],
   "source": [
    "def allcolors(directory):\n",
    "    all_pixels = []\n",
    "    for filename in os.listdir(directory):\n",
    "        if filename.endswith(\".jpg\"):\n",
    "            image_path = os.path.join(directory, filename)\n",
    "            image = Image.open(image_path)\n",
    "            if image.mode != 'RGB':\n",
    "                print(f\"L'image {filename} n'est pas en format RGB (mode {image.mode})\")\n",
    "                image = image.convert('RGB')\n",
    "            pixels = []\n",
    "            for pixel in image.getdata():\n",
    "                r, g, b = pixel\n",
    "                pixels.append((r, g, b))\n",
    "            all_pixels.append(pixels)\n",
    "    if all_pixels:\n",
    "        print(\"Liste globale de couleurs de pixels :\")\n",
    "        return np.array(all_pixels)\n",
    "    else:\n",
    "        print(f\"Aucune image valide trouvée dans le dossier {directory}\")"
   ]
  },
  {
   "cell_type": "markdown",
   "id": "9b388187",
   "metadata": {},
   "source": [
    "Affichage de l'image selectionné"
   ]
  },
  {
   "cell_type": "code",
   "execution_count": 5,
   "id": "693621ac",
   "metadata": {},
   "outputs": [],
   "source": [
    "def show_selected_image(file_path, default_label, img_label, choose_button):\n",
    "    with Image.open(file_path) as img:\n",
    "        # Calculer la nouvelle taille de l'image à 70% de la largeur et de la hauteur\n",
    "        window_width = root.winfo_width()\n",
    "        window_height = root.winfo_height()\n",
    "        img_width = int(0.7 * window_width)\n",
    "        img_height = int(0.7 * window_height)\n",
    "        img = img.resize((img_width, img_height), Image.ANTIALIAS)\n",
    "        choose_button.destroy()\n",
    "        photo = ImageTk.PhotoImage(img)\n",
    "        img_label.config(image=photo, borderwidth=5, relief=\"groove\")\n",
    "        img_label.image = photo\n",
    "        default_label.pack_forget()\n",
    "        # Supprimer le bouton \"Sélectionner une image\"\n",
    "        # Créer un nouveau cadre pour les boutons\n",
    "        button_frame = Frame(root, bg='#FFFFFF')\n",
    "        # Ajouter les boutons vert et rouge à droite de l'image\n",
    "        green_button = Button(button_frame, text=\"Tester\", bg=\"#4CAF50\", fg=\"white\",  width=10, command=lambda: save_image(file_path))\n",
    "        green_button.pack(side=\"right\", padx=100, pady=10)\n",
    "        red_button = Button(button_frame, text=\"Autre Image\", bg=\"#EF5350\", fg=\"white\", width=7, padx=10,  command=lambda: choose_image(default_label, img_label, choose_button, green_button, red_button, button_frame))\n",
    "        red_button.pack(side=\"right\", padx=100, pady=10)\n",
    "        # Ajouter le cadre sous l'image au centre\n",
    "        button_frame.pack(side=\"bottom\", pady=20)"
   ]
  },
  {
   "cell_type": "markdown",
   "id": "4246cbe3",
   "metadata": {},
   "source": [
    "fonction pour choisir une image avec la destruction des bouton dupliqué"
   ]
  },
  {
   "cell_type": "code",
   "execution_count": 6,
   "id": "37a4e902",
   "metadata": {},
   "outputs": [],
   "source": [
    "def choose_image(default_label, img_label, choose_button, green_button, red_button, button_frame):\n",
    "    green_button.destroy()\n",
    "    red_button.destroy()\n",
    "    button_frame.destroy()\n",
    "    file_path = filedialog.askopenfilename(filetypes=[(\"Images\", \"*.png;*.jpg;*.jpeg\")])\n",
    "    if file_path:\n",
    "        show_selected_image(file_path, default_label, img_label, choose_button)\n",
    "        print(\"Vous avez sélectionné l'image\", file_path)\n",
    "\n",
    "default_text = \"Aucune image sélectionnée\"\n",
    "default_label = Label(root, text=default_text, font=(\"Arial\", 24), pady=200, padx=150)\n",
    "default_label.pack()"
   ]
  },
  {
   "cell_type": "markdown",
   "id": "465a9a33",
   "metadata": {},
   "source": [
    "Définition des element a affiché en bref la structure de l'application"
   ]
  },
  {
   "cell_type": "code",
   "execution_count": 7,
   "id": "ab2d1383",
   "metadata": {},
   "outputs": [
    {
     "name": "stderr",
     "output_type": "stream",
     "text": [
      "C:\\Users\\victo\\AppData\\Local\\Temp\\ipykernel_13316\\2875441120.py:8: DeprecationWarning: ANTIALIAS is deprecated and will be removed in Pillow 10 (2023-07-01). Use LANCZOS or Resampling.LANCZOS instead.\n",
      "  img = img.resize((img_width, img_height), Image.ANTIALIAS)\n"
     ]
    },
    {
     "name": "stdout",
     "output_type": "stream",
     "text": [
      "Vous avez sélectionné l'image D:/Project-main/dataset_copy/Balle_de_football/football_22.png\n",
      "Image téléchargée avec succès!\n",
      "Liste globale de couleurs de pixels :\n",
      "[[[255 255 255]\n",
      "  [255 255 255]\n",
      "  [252 252 252]\n",
      "  ...\n",
      "  [255 255 255]\n",
      "  [255 255 255]\n",
      "  [255 255 255]]]\n",
      "Prédictions du MLP :\n",
      "Exemple 1 - Prédiction : 1\n",
      "Sortie du MLP : [0.02117678 0.9787563  0.00415987]\n",
      "Ballon de football\n",
      "C:\\Users\\victo\\OneDrive\\Project-main\\Application\\imageAtest\n"
     ]
    }
   ],
   "source": [
    "# Créer un cadre pour stocker le bouton\n",
    "button_frame = Frame(root, bg='#FFFFFF')\n",
    "img_label = Label(root, background='#FFFFFF')\n",
    "img_label.pack(pady=15)\n",
    "green_button = Button(button_frame, text=\"Tester\", bg=\"#4CAF50\", fg=\"white\",  width=10, command=lambda: save_image(file_path))\n",
    "green_button.pack(side=\"right\", padx=100, pady=10)\n",
    "red_button = Button(button_frame, text=\"Autre Image\", bg=\"#EF5350\", fg=\"white\", width=7, padx=10,  command=lambda: choose_image(default_label, img_label, choose_button, green_button, red_button))\n",
    "red_button.pack(side=\"right\", padx=100, pady=10)\n",
    "choose_button = Button(button_frame, text=\"Sélectionner une image\", command=lambda: choose_image(default_label, img_label, choose_button, green_button, red_button, button_frame), bg=\"#4C4C4C\", fg=\"white\")\n",
    "choose_button.pack(pady=15)\n",
    "# Ajouter le cadre au-dessus du label\n",
    "button_frame.pack()\n",
    "\n",
    "# Ajouter un label pour afficher le résultat de la prédiction\n",
    "result_label = Label(root, text=\"\", font=(\"Arial\", 18), pady=20)\n",
    "result_label.pack()\n",
    "\n",
    "root.mainloop()\n"
   ]
  },
  {
   "cell_type": "code",
   "execution_count": null,
   "id": "6c925a8a",
   "metadata": {},
   "outputs": [],
   "source": []
  },
  {
   "cell_type": "code",
   "execution_count": null,
   "id": "442adb11",
   "metadata": {},
   "outputs": [],
   "source": []
  },
  {
   "cell_type": "code",
   "execution_count": null,
   "id": "ec19acbc",
   "metadata": {},
   "outputs": [],
   "source": []
  },
  {
   "cell_type": "code",
   "execution_count": null,
   "id": "3444c783",
   "metadata": {},
   "outputs": [],
   "source": []
  },
  {
   "cell_type": "code",
   "execution_count": null,
   "id": "a059da3f",
   "metadata": {},
   "outputs": [],
   "source": []
  }
 ],
 "metadata": {
  "kernelspec": {
   "display_name": "Python 3 (ipykernel)",
   "language": "python",
   "name": "python3"
  },
  "language_info": {
   "codemirror_mode": {
    "name": "ipython",
    "version": 3
   },
   "file_extension": ".py",
   "mimetype": "text/x-python",
   "name": "python",
   "nbconvert_exporter": "python",
   "pygments_lexer": "ipython3",
   "version": "3.10.10"
  }
 },
 "nbformat": 4,
 "nbformat_minor": 5
}

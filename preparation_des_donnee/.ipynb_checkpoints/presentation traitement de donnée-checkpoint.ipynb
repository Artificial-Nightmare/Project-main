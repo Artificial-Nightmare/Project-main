{
 "cells": [
  {
   "cell_type": "markdown",
   "id": "f1639e71",
   "metadata": {},
   "source": [
    "# TRAITEMENT DES IMAGES\n",
    "\n",
    "ici nous allons montrer comment nous traitons nos images"
   ]
  },
  {
   "cell_type": "markdown",
   "id": "acaba620",
   "metadata": {},
   "source": [
    "# Voici le code qui renome les "
   ]
  },
  {
   "cell_type": "code",
   "execution_count": null,
   "id": "73c63a45",
   "metadata": {},
   "outputs": [],
   "source": [
    "# %load renamefile.py\n",
    "import os\n",
    "\n",
    "\n",
    "\n",
    "basket = 'Balle_de_basketball'\n",
    "football = 'Balle_de_football'\n",
    "baseball = \"Balle_de_baseball\"\n",
    "\n",
    "nameBasketball = \"basketball_\"\n",
    "nameFootball = \"football_\"\n",
    "nameBaseball = \"baseball_\"\n",
    "\n",
    "data1 = \"dataset\"\n",
    "data2 = \"dataset_copy\"\n",
    "data3 = \"dataset_Same_Size\"\n",
    "\n",
    "# Chemin du dossier contenant les images à renommer\n",
    "dirname = os.getcwd()\n",
    "source_dir = os.path.join(dirname, \"..\", data3, basket)\n",
    "\n",
    "# Liste des fichiers dans le dossier\n",
    "files = os.listdir(source_dir)\n",
    "\n",
    "# Liste des numéros de fichiers existants\n",
    "existing_nums = []\n",
    "for file in files:\n",
    "    if file.endswith(\".jpg\") or file.endswith(\".png\") or file.endswith('jpeg'):\n",
    "        num = int(file.replace('.jpg','').replace('.png','').replace('.jpeg','').split('_')[-1])\n",
    "        existing_nums.append(num)\n",
    "\n",
    "# Compteur pour numéroter les images\n",
    "count = 1\n",
    "\n",
    "# Pour chaque fichier dans le dossier\n",
    "for file in files:\n",
    "    # Vérification que le fichier est bien une image\n",
    "    if file.endswith(\".jpg\") or file.endswith(\".png\") or file.endswith('jpeg'):\n",
    "        # Chemin complet du fichier\n",
    "        source_path = os.path.join(source_dir, file)\n",
    "        \n",
    "        # Saute les numéros de fichiers existants\n",
    "        while count in existing_nums:\n",
    "            count += 1\n",
    "        \n",
    "        # Nouveau nom de fichier avec numéro séquentiel\n",
    "        new_filename = f\"{nameBasketball}{count}.jpg\"\n",
    "        # Chemin complet du nouveau fichier\n",
    "        dest_path = os.path.join(source_dir, new_filename)\n",
    "        # Renommage du fichier\n",
    "        os.rename(source_path, dest_path)\n",
    "        # Incrément du compteur\n",
    "        count += 1\n",
    "\n",
    "print(\"Les images ont été renommées avec succès !\")"
   ]
  },
  {
   "cell_type": "code",
   "execution_count": null,
   "id": "5a4957b7",
   "metadata": {},
   "outputs": [],
   "source": []
  },
  {
   "cell_type": "code",
   "execution_count": null,
   "id": "985d645d",
   "metadata": {},
   "outputs": [],
   "source": []
  }
 ],
 "metadata": {
  "kernelspec": {
   "display_name": "Python 3 (ipykernel)",
   "language": "python",
   "name": "python3"
  },
  "language_info": {
   "codemirror_mode": {
    "name": "ipython",
    "version": 3
   },
   "file_extension": ".py",
   "mimetype": "text/x-python",
   "name": "python",
   "nbconvert_exporter": "python",
   "pygments_lexer": "ipython3",
   "version": "3.10.10"
  }
 },
 "nbformat": 4,
 "nbformat_minor": 5
}

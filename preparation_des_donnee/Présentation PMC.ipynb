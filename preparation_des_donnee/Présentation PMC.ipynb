{
 "cells": [
  {
   "cell_type": "markdown",
   "id": "de2bfc9e",
   "metadata": {},
   "source": [
    "# Presentation de l'entrainement PMC\n",
    "\n",
    "Nous allons ici presenté le code et sont fonctionnement via des interaction direct avec les differents dossiers et fichiers de training\n",
    "\n",
    "voila le code principal qui nous permet de faire des models sur nos données:\n"
   ]
  },
  {
   "cell_type": "markdown",
   "id": "2704a928",
   "metadata": {},
   "source": [
    "d'abord l'importation les lib et la definition des code de notre librairy\n"
   ]
  },
  {
   "cell_type": "code",
   "execution_count": 1,
   "id": "b0f54b7c",
   "metadata": {},
   "outputs": [],
   "source": [
    "import os \n",
    "from PIL import Image\n",
    "import numpy as np\n",
    "import ctypes\n",
    "import sys\n",
    "import create_listTest\n",
    "import trainer\n",
    "import pickle\n",
    "import subprocess\n",
    "from IPython.display import display\n",
    "import matplotlib.pyplot as plt\n",
    "\n",
    "dirname = os.getcwd()\n",
    "chemin = os.path.join(dirname,\"..\", \"Test_image\")\n",
    "create_listTest.allcolors(chemin)\n",
    "create_listTest.expected_image(chemin)\n",
    "\n",
    "# Get the directory of the current script\n",
    "current_dir = os.getcwd()\n",
    "\n",
    "# Append the path to the DLL to the system's search path\n",
    "dll_path = os.path.join(current_dir, 'perceptron_multi_couche.dll')\n",
    "sys.path.append(dll_path)\n",
    "\n",
    "# Load the DLL\n",
    "mlp_dll = ctypes.cdll.LoadLibrary(dll_path)\n",
    "\n",
    "# Définition des types de données\n",
    "mlp_dll.createMLP.restype = ctypes.c_void_p\n",
    "mlp_dll.createMLP.argtypes = [ctypes.POINTER(ctypes.c_int), ctypes.c_int]\n",
    "mlp_dll.deleteMLP.argtypes = [ctypes.c_void_p]\n",
    "\n",
    "\n"
   ]
  },
  {
   "cell_type": "markdown",
   "id": "da237b5a",
   "metadata": {},
   "source": [
    "# Modifier les si vous voulez produire des resultat différent !\n",
    "les paramètres d'apprentissages\n"
   ]
  },
  {
   "cell_type": "code",
   "execution_count": 2,
   "id": "41866bc0",
   "metadata": {},
   "outputs": [],
   "source": [
    "# Définition de la structure du MLP et paramètres\n",
    "\n",
    "npl = np.array([1875,32,3], dtype=np.int32)\n",
    "num_epochs = 100000\n",
    "learning_rate = 0.006545\n",
    "mlp_ptr = mlp_dll.createMLP(npl.ctypes.data_as(ctypes.POINTER(ctypes.c_int)), npl.size)"
   ]
  },
  {
   "cell_type": "markdown",
   "id": "a1247902",
   "metadata": {},
   "source": [
    "definition de la base de train et entrainement"
   ]
  },
  {
   "cell_type": "code",
   "execution_count": 3,
   "id": "56572edd",
   "metadata": {
    "scrolled": false
   },
   "outputs": [
    {
     "name": "stdout",
     "output_type": "stream",
     "text": [
      "L'image basketball_211.jpg n'est pas en format RGB (mode RGBA)\n",
      "L'image basketball_216.jpg n'est pas en format RGB (mode P)\n",
      "L'image basketball_224.jpg n'est pas en format RGB (mode RGBA)\n",
      "L'image basketball_307.jpg n'est pas en format RGB (mode RGBA)\n",
      "L'image basketball_313.jpg n'est pas en format RGB (mode P)\n",
      "L'image basketball_325.jpg n'est pas en format RGB (mode RGBA)\n",
      "L'image basketball_385.jpg n'est pas en format RGB (mode RGBA)\n",
      "L'image basketball_389.jpg n'est pas en format RGB (mode RGBA)\n",
      "L'image basketball_392.jpg n'est pas en format RGB (mode P)\n",
      "L'image basketball_405.jpg n'est pas en format RGB (mode RGBA)\n",
      "L'image basketball_56.jpg n'est pas en format RGB (mode RGBA)\n",
      "L'image basketball_61.jpg n'est pas en format RGB (mode P)\n",
      "L'image basketball_72.jpg n'est pas en format RGB (mode RGBA)\n",
      "L'image football_112.jpg n'est pas en format RGB (mode RGBA)\n",
      "L'image football_119.jpg n'est pas en format RGB (mode RGBA)\n",
      "L'image football_140.jpg n'est pas en format RGB (mode LA)\n",
      "L'image football_156.jpg n'est pas en format RGB (mode RGBA)\n",
      "L'image football_161.jpg n'est pas en format RGB (mode RGBA)\n",
      "L'image football_190.jpg n'est pas en format RGB (mode L)\n",
      "L'image football_191.jpg n'est pas en format RGB (mode L)\n",
      "L'image football_195.jpg n'est pas en format RGB (mode L)\n",
      "L'image football_2.jpg n'est pas en format RGB (mode LA)\n",
      "L'image football_214.jpg n'est pas en format RGB (mode RGBA)\n",
      "L'image football_247.jpg n'est pas en format RGB (mode L)\n",
      "L'image football_259.jpg n'est pas en format RGB (mode RGBA)\n",
      "L'image football_28.jpg n'est pas en format RGB (mode RGBA)\n",
      "L'image football_5.jpg n'est pas en format RGB (mode L)\n",
      "L'image football_53.jpg n'est pas en format RGB (mode L)\n",
      "L'image football_7.jpg n'est pas en format RGB (mode RGBA)\n",
      "L'image football_84.jpg n'est pas en format RGB (mode LA)\n",
      "L'image football_87.jpg n'est pas en format RGB (mode L)\n",
      "L'image football_92.jpg n'est pas en format RGB (mode RGBA)\n",
      "(824, 1875)\n",
      "\n"
     ]
    }
   ],
   "source": [
    "data_dir = os.path.join(current_dir)\n",
    "train_inputs = np.array(create_listTest.allcolors(os.path.join(data_dir, '..', 'Train_image')))\n",
    "train_expected_outputs = np.array(create_listTest.expected_image(os.path.join(data_dir, '..', 'Train_image')))\n",
    "print(train_inputs.shape)\n",
    "# Entraînement du MLP sur un nombre spécifique d'époques\n",
    "samples_inputs = train_inputs\n",
    "samples_expected_outputs = train_expected_outputs\n",
    "\n",
    "command = [\"python\", \"-c\", f\"import trainer; trainer.training({num_epochs}, {learning_rate}, {samples_inputs}, {samples_expected_outputs}, {mlp_ptr})\"]\n",
    "result = subprocess.run(command, stdout=subprocess.PIPE, stderr=subprocess.PIPE, shell=True, universal_newlines=True)\n",
    "\n",
    "# Afficher la sortie du terminal dans Jupyter Notebook\n",
    "print(result.stdout)\n",
    "\n",
    "mlp_ptr = trainer.training(num_epochs, learning_rate,samples_inputs,samples_expected_outputs,mlp_ptr)\n",
    "\n"
   ]
  },
  {
   "cell_type": "markdown",
   "id": "3f87a583",
   "metadata": {},
   "source": [
    "les image que qui n'ont pas de format RGB ne sont aps traité ici on traite des image avec 3 valeur par pixel 3 x 25 x 25 = 1875 notre nombre d'entrée"
   ]
  },
  {
   "cell_type": "markdown",
   "id": "281629c0",
   "metadata": {},
   "source": [
    "Puis prediction de d'image via la base de test !"
   ]
  },
  {
   "cell_type": "code",
   "execution_count": 4,
   "id": "238b85bf",
   "metadata": {
    "scrolled": false
   },
   "outputs": [
    {
     "name": "stdout",
     "output_type": "stream",
     "text": [
      "c_void_p(1394219713904)\n",
      "Prédictions du MLP :\n",
      "Exemple 1 - Prédiction : 0, Attendu : 0\n",
      "Sortie du MLP : [0.80345375 0.14049322 0.03343037]\n",
      "Exemple 2 - Prédiction : 0, Attendu : 0\n",
      "Sortie du MLP : [0.86174614 0.13277457 0.01775773]\n",
      "Exemple 3 - Prédiction : 0, Attendu : 0\n",
      "Sortie du MLP : [0.92467453 0.07567476 0.01485122]\n",
      "Exemple 4 - Prédiction : 0, Attendu : 0\n",
      "Sortie du MLP : [0.83320608 0.24297084 0.02662106]\n",
      "Exemple 5 - Prédiction : 0, Attendu : 0\n",
      "Sortie du MLP : [0.94647649 0.06884358 0.01009531]\n",
      "Exemple 6 - Prédiction : 0, Attendu : 0\n",
      "Sortie du MLP : [0.74354884 0.14589853 0.06441197]\n",
      "Exemple 7 - Prédiction : 2, Attendu : 2\n",
      "Sortie du MLP : [0.01656425 0.01030657 0.98082197]\n",
      "Exemple 8 - Prédiction : 2, Attendu : 2\n",
      "Sortie du MLP : [0.00974509 0.0137682  0.98727856]\n",
      "Exemple 9 - Prédiction : 2, Attendu : 2\n",
      "Sortie du MLP : [0.00481427 0.06060836 0.95763058]\n",
      "Exemple 10 - Prédiction : 2, Attendu : 2\n",
      "Sortie du MLP : [0.01133094 0.19831579 0.91220891]\n",
      "Exemple 11 - Prédiction : 1, Attendu : 1\n",
      "Sortie du MLP : [0.13244279 0.85321601 0.01792451]\n",
      "Exemple 12 - Prédiction : 1, Attendu : 1\n",
      "Sortie du MLP : [0.29251499 0.65555296 0.00948572]\n",
      "Exemple 13 - Prédiction : 1, Attendu : 1\n",
      "Sortie du MLP : [0.03248904 0.92670898 0.02552575]\n",
      "Exemple 14 - Prédiction : 1, Attendu : 1\n",
      "Sortie du MLP : [0.0051799  0.99350973 0.03664899]\n"
     ]
    }
   ],
   "source": [
    "# Charger les données de test\n",
    "test_inputs = np.array(create_listTest.allcolors(os.path.join(data_dir, '..', 'Test_image')))\n",
    "test_expected_outputs = np.array(create_listTest.expected_image(os.path.join(data_dir, '..', 'Test_image')))\n",
    "\n",
    "# Convertir le pointeur mlp_ptr en un pointeur valide de type MLP\n",
    "mlp = ctypes.cast(mlp_ptr, ctypes.POINTER(ctypes.c_void_p)).contents\n",
    "print(mlp)\n",
    "\n",
    "# Charger les images d'entrée et les étiquettes attendues\n",
    "input_images = test_inputs\n",
    "expected_outputs = test_expected_outputs\n",
    "\n",
    "# Appeler la fonction predict_list\n",
    "predicted_outputs = trainer.predict(mlp_ptr, test_inputs)\n",
    "\n",
    "# Obtenir l'indice de la classe attendue pour chaque étiquette\n",
    "predicted_classes = np.argmax(predicted_outputs, axis=1)\n",
    "expected_classes = np.argmax(test_expected_outputs, axis=1)\n",
    "\n",
    "# Afficher les classes prédites et les classes attendues côte à côte\n",
    "print(\"Prédictions du MLP :\")\n",
    "for i in range(len(predicted_classes)):\n",
    "    predicted_class = predicted_classes[i]\n",
    "    expected_class = expected_classes[i]\n",
    "    print(f\"Exemple {i+1} - Prédiction : {predicted_class}, Attendu : {expected_class}\")\n",
    "    print(f\"Sortie du MLP : {predicted_outputs[i]}\")"
   ]
  },
  {
   "cell_type": "code",
   "execution_count": null,
   "id": "72926542",
   "metadata": {},
   "outputs": [],
   "source": []
  },
  {
   "cell_type": "code",
   "execution_count": null,
   "id": "d4e00de0",
   "metadata": {},
   "outputs": [],
   "source": []
  }
 ],
 "metadata": {
  "kernelspec": {
   "display_name": "Python 3 (ipykernel)",
   "language": "python",
   "name": "python3"
  },
  "language_info": {
   "codemirror_mode": {
    "name": "ipython",
    "version": 3
   },
   "file_extension": ".py",
   "mimetype": "text/x-python",
   "name": "python",
   "nbconvert_exporter": "python",
   "pygments_lexer": "ipython3",
   "version": "3.10.10"
  }
 },
 "nbformat": 4,
 "nbformat_minor": 5
}

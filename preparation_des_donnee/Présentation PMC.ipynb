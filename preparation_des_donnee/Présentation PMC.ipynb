{
 "cells": [
  {
   "cell_type": "markdown",
   "id": "de2bfc9e",
   "metadata": {},
   "source": [
    "# Presentation de l'entrainement PMC\n",
    "\n",
    "Nous allons ici presenté le code et sont fonctionnement via des interaction direct avec les differents dossiers et fichiers de training\n",
    "\n",
    "voila le code principal qui nous permet de faire des models sur nos données:\n"
   ]
  },
  {
   "cell_type": "markdown",
   "id": "2704a928",
   "metadata": {},
   "source": [
    "d'abord l'importation les lib et la definition des code de notre librairy\n"
   ]
  },
  {
   "cell_type": "code",
   "execution_count": null,
   "id": "b0f54b7c",
   "metadata": {},
   "outputs": [],
   "source": [
    "import os \n",
    "from PIL import Image\n",
    "import numpy as np\n",
    "import ctypes\n",
    "import sys\n",
    "import create_listTest\n",
    "import trainer\n",
    "import pickle\n",
    "import subprocess\n",
    "from IPython.display import display\n",
    "import matplotlib.pyplot as plt\n",
    "\n",
    "dirname = os.getcwd()\n",
    "chemin = os.path.join(dirname,\"..\", \"Test_image\")\n",
    "create_listTest.allcolors(chemin)\n",
    "create_listTest.expected_image(chemin)\n",
    "\n",
    "# Get the directory of the current script\n",
    "current_dir = os.getcwd()\n",
    "\n",
    "# Append the path to the DLL to the system's search path\n",
    "dll_path = os.path.join(current_dir, 'perceptron_multi_couche.dll')\n",
    "sys.path.append(dll_path)\n",
    "\n",
    "# Load the DLL\n",
    "mlp_dll = ctypes.cdll.LoadLibrary(dll_path)\n",
    "\n",
    "# Définition des types de données\n",
    "mlp_dll.createMLP.restype = ctypes.c_void_p\n",
    "mlp_dll.createMLP.argtypes = [ctypes.POINTER(ctypes.c_int), ctypes.c_int]\n",
    "mlp_dll.deleteMLP.argtypes = [ctypes.c_void_p]\n",
    "\n",
    "\n"
   ]
  },
  {
   "cell_type": "markdown",
   "id": "da237b5a",
   "metadata": {},
   "source": [
    "# Modifier les si vous voulez produire des resultat différent !\n",
    "les paramètres d'apprentissages\n"
   ]
  },
  {
   "cell_type": "code",
   "execution_count": null,
   "id": "41866bc0",
   "metadata": {},
   "outputs": [],
   "source": [
    "# Définition de la structure du MLP et paramètres\n",
    "\n",
    "npl = np.array([1875,32,3], dtype=np.int32)\n",
    "num_epochs = 100000\n",
    "learning_rate = 0.006545\n",
    "mlp_ptr = mlp_dll.createMLP(npl.ctypes.data_as(ctypes.POINTER(ctypes.c_int)), npl.size)"
   ]
  },
  {
   "cell_type": "markdown",
   "id": "a1247902",
   "metadata": {},
   "source": [
    "definition de la base de train et entrainement"
   ]
  },
  {
   "cell_type": "code",
   "execution_count": null,
   "id": "56572edd",
   "metadata": {
    "scrolled": false
   },
   "outputs": [],
   "source": [
    "data_dir = os.path.join(current_dir)\n",
    "train_inputs = np.array(create_listTest.allcolors(os.path.join(data_dir, '..', 'Train_image')))\n",
    "train_expected_outputs = np.array(create_listTest.expected_image(os.path.join(data_dir, '..', 'Train_image')))\n",
    "print(train_inputs.shape)\n",
    "# Entraînement du MLP sur un nombre spécifique d'époques\n",
    "samples_inputs = train_inputs\n",
    "samples_expected_outputs = train_expected_outputs\n",
    "\n",
    "command = [\"python\", \"-c\", f\"import trainer; trainer.training({num_epochs}, {learning_rate}, {samples_inputs}, {samples_expected_outputs}, {mlp_ptr})\"]\n",
    "result = subprocess.run(command, stdout=subprocess.PIPE, stderr=subprocess.PIPE, shell=True, universal_newlines=True)\n",
    "\n",
    "# Afficher la sortie du terminal dans Jupyter Notebook\n",
    "print(result.stdout)\n",
    "\n",
    "mlp_ptr = trainer.training(num_epochs, learning_rate,samples_inputs,samples_expected_outputs,mlp_ptr)\n",
    "\n"
   ]
  },
  {
   "cell_type": "markdown",
   "id": "3f87a583",
   "metadata": {},
   "source": [
    "les image que qui n'ont pas de format RGB ne sont aps traité ici on traite des image avec 3 valeur par pixel 3 x 25 x 25 = 1875 notre nombre d'entrée"
   ]
  },
  {
   "cell_type": "markdown",
   "id": "281629c0",
   "metadata": {},
   "source": [
    "Puis prediction de d'image via la base de test !"
   ]
  },
  {
   "cell_type": "code",
   "execution_count": null,
   "id": "238b85bf",
   "metadata": {
    "scrolled": false
   },
   "outputs": [],
   "source": [
    "# Charger les données de test\n",
    "test_inputs = np.array(create_listTest.allcolors(os.path.join(data_dir, '..', 'Test_image')))\n",
    "test_expected_outputs = np.array(create_listTest.expected_image(os.path.join(data_dir, '..', 'Test_image')))\n",
    "\n",
    "# Charger les images d'entrée et les étiquettes attendues\n",
    "input_images = test_inputs\n",
    "expected_outputs = test_expected_outputs\n",
    "\n",
    "# Appeler la fonction predict_list\n",
    "predicted_outputs = trainer.predict(mlp_ptr, test_inputs)\n",
    "\n",
    "# Obtenir l'indice de la classe prédite pour chaque prédiction\n",
    "# Obtenir l'indice de la classe attendue pour chaque étiquette\n",
    "predicted_classes = np.argmax(predicted_outputs, axis=1)\n",
    "expected_classes = np.argmax(test_expected_outputs, axis=1)\n",
    "\n",
    "diffs = predicted_classes - expected_classes\n",
    "\n",
    "# Tracer un graphique des différences\n",
    "plt.plot(diffs)\n",
    "plt.title(\"Différences entre les classes prédites et les classes attendues\")\n",
    "plt.xlabel(\"Exemples d'entrée\")\n",
    "plt.ylabel(\"Différence entre la classe prédite et la classe attendue\")\n",
    "plt.show()\n",
    "\n",
    "# Afficher les classes prédites et les classes attendues côte à côte\n",
    "print(\"Prédictions du MLP :\")\n",
    "for i in range(len(predicted_classes)):\n",
    "    predicted_class = predicted_classes[i]\n",
    "    expected_class = expected_classes[i]\n",
    "    print(f\"Exemple {i+1} - Prédiction : {predicted_class}, Attendu : {expected_class}\")\n",
    "    print(f\"Sortie du MLP : {predicted_outputs[i]}\")"
   ]
  },
  {
   "cell_type": "code",
   "execution_count": null,
   "id": "72926542",
   "metadata": {},
   "outputs": [],
   "source": []
  }
 ],
 "metadata": {
  "kernelspec": {
   "display_name": "Python 3 (ipykernel)",
   "language": "python",
   "name": "python3"
  },
  "language_info": {
   "codemirror_mode": {
    "name": "ipython",
    "version": 3
   },
   "file_extension": ".py",
   "mimetype": "text/x-python",
   "name": "python",
   "nbconvert_exporter": "python",
   "pygments_lexer": "ipython3",
   "version": "3.10.10"
  }
 },
 "nbformat": 4,
 "nbformat_minor": 5
}
